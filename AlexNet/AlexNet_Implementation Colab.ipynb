{
  "cells": [
    {
      "cell_type": "code",
      "execution_count": null,
      "metadata": {
        "id": "0QFRGSCyTcFU",
        "outputId": "0031d8e3-0e3c-4f52-85df-1c22fe36e1bf",
        "colab": {
          "base_uri": "https://localhost:8080/"
        }
      },
      "outputs": [
        {
          "output_type": "stream",
          "name": "stdout",
          "text": [
            "Num GPUs Available:  1\n"
          ]
        }
      ],
      "source": [
        "import numpy as np\n",
        "import tensorflow as tf\n",
        "from tensorflow import keras\n",
        "import tensorflow.keras.layers as tfl\n",
        "import matplotlib.pyplot as plt\n",
        "import os\n",
        "import time\n",
        "print(\"Num GPUs Available: \", len(tf.config.list_physical_devices('GPU')))\n"
      ]
    },
    {
      "cell_type": "code",
      "execution_count": null,
      "metadata": {
        "id": "Y-UhagakTcFV",
        "outputId": "57b26d63-4bed-4d61-b725-d8272239c7b8",
        "colab": {
          "base_uri": "https://localhost:8080/"
        }
      },
      "outputs": [
        {
          "output_type": "stream",
          "name": "stdout",
          "text": [
            "Downloading data from https://www.cs.toronto.edu/~kriz/cifar-10-python.tar.gz\n",
            "170500096/170498071 [==============================] - 2s 0us/step\n",
            "170508288/170498071 [==============================] - 2s 0us/step\n",
            "(50000, 32, 32, 3)\n"
          ]
        }
      ],
      "source": [
        "(train_images, train_labels), (test_images, test_labels) = keras.datasets.cifar10.load_data()\n",
        "\n",
        "print(train_images.shape)"
      ]
    },
    {
      "cell_type": "code",
      "execution_count": null,
      "metadata": {
        "id": "-ApF-bjMTcFX"
      },
      "outputs": [],
      "source": [
        "CLASS_NAMES= ['airplane', 'automobile', 'bird', 'cat', 'deer', 'dog', 'frog', 'horse', 'ship', 'truck']"
      ]
    },
    {
      "cell_type": "code",
      "execution_count": null,
      "metadata": {
        "id": "fCNZPff4TcFX"
      },
      "outputs": [],
      "source": [
        "train_ds = tf.data.Dataset.from_tensor_slices((train_images[:10000], train_labels[:10000]))\n",
        "test_ds = tf.data.Dataset.from_tensor_slices((test_images, test_labels))"
      ]
    },
    {
      "cell_type": "code",
      "execution_count": null,
      "metadata": {
        "id": "TuS5-7KhTcFY",
        "outputId": "29324ea2-98e3-4de4-c8df-fdb283c66f4c",
        "colab": {
          "base_uri": "https://localhost:8080/",
          "height": 234
        }
      },
      "outputs": [
        {
          "output_type": "display_data",
          "data": {
            "text/plain": [
              "<Figure size 1440x1440 with 5 Axes>"
            ],
            "image/png": "[encoded data removed]"
          },
          "metadata": {
            "needs_background": "light"
          }
        }
      ],
      "source": [
        "plt.figure(figsize=(20,20))\n",
        "for i, (image, label) in enumerate(train_ds.take(5)):\n",
        "    ax = plt.subplot(5,5,i+1)\n",
        "    plt.imshow(image)\n",
        "    plt.title(CLASS_NAMES[label.numpy()[0]])\n",
        "    plt.axis('off')"
      ]
    },
    {
      "cell_type": "code",
      "execution_count": null,
      "metadata": {
        "id": "6aQN2FLuTcFZ"
      },
      "outputs": [],
      "source": [
        "def process_images(image, label):\n",
        "    image = tf.image.per_image_standardization(image)\n",
        "    image = tf.image.resize(image, (227,227))\n",
        "    return image, label"
      ]
    },
    {
      "cell_type": "code",
      "execution_count": null,
      "metadata": {
        "id": "ebe73PfwTcFZ",
        "outputId": "8b7cf291-164f-4ea4-fc7c-13b325478b1c",
        "colab": {
          "base_uri": "https://localhost:8080/"
        }
      },
      "outputs": [
        {
          "output_type": "stream",
          "name": "stdout",
          "text": [
            "Training data size: 10000\n",
            "Test data size: 10000\n"
          ]
        }
      ],
      "source": [
        "train_ds_size = tf.data.experimental.cardinality(train_ds).numpy()\n",
        "test_ds_size = tf.data.experimental.cardinality(test_ds).numpy()\n",
        "print(\"Training data size:\", train_ds_size)\n",
        "print(\"Test data size:\", test_ds_size)"
      ]
    },
    {
      "cell_type": "code",
      "execution_count": null,
      "metadata": {
        "id": "WawQX2-9TcFa"
      },
      "outputs": [],
      "source": [
        "train_ds = (train_ds.map(process_images).shuffle(buffer_size=train_ds_size).batch(batch_size=32, drop_remainder=True))\n",
        "test_ds = (test_ds.map(process_images).shuffle(buffer_size=train_ds_size).batch(batch_size=32, drop_remainder=True))"
      ]
    },
    {
      "cell_type": "code",
      "execution_count": null,
      "metadata": {
        "id": "6doWQXmeTcFb",
        "outputId": "49088afd-2b9f-416c-c04b-e076ff462346",
        "colab": {
          "base_uri": "https://localhost:8080/"
        }
      },
      "outputs": [
        {
          "output_type": "stream",
          "name": "stdout",
          "text": [
            "Model: \"sequential\"\n",
            "_________________________________________________________________\n",
            " Layer (type)                Output Shape              Param #   \n",
            "=================================================================\n",
            " conv2d (Conv2D)             (None, 55, 55, 96)        34944     \n",
            "                                                                 \n",
            " re_lu (ReLU)                (None, 55, 55, 96)        0         \n",
            "                                                                 \n",
            " batch_normalization (BatchN  (None, 55, 55, 96)       384       \n",
            " ormalization)                                                   \n",
            "                                                                 \n",
            " max_pooling2d (MaxPooling2D  (None, 27, 27, 96)       0         \n",
            " )                                                               \n",
            "                                                                 \n",
            " conv2d_1 (Conv2D)           (None, 27, 27, 256)       614656    \n",
            "                                                                 \n",
            " re_lu_1 (ReLU)              (None, 27, 27, 256)       0         \n",
            "                                                                 \n",
            " batch_normalization_1 (Batc  (None, 27, 27, 256)      1024      \n",
            " hNormalization)                                                 \n",
            "                                                                 \n",
            " max_pooling2d_1 (MaxPooling  (None, 13, 13, 256)      0         \n",
            " 2D)                                                             \n",
            "                                                                 \n",
            " conv2d_2 (Conv2D)           (None, 13, 13, 384)       885120    \n",
            "                                                                 \n",
            " re_lu_2 (ReLU)              (None, 13, 13, 384)       0         \n",
            "                                                                 \n",
            " batch_normalization_2 (Batc  (None, 13, 13, 384)      1536      \n",
            " hNormalization)                                                 \n",
            "                                                                 \n",
            " conv2d_3 (Conv2D)           (None, 13, 13, 384)       1327488   \n",
            "                                                                 \n",
            " re_lu_3 (ReLU)              (None, 13, 13, 384)       0         \n",
            "                                                                 \n",
            " batch_normalization_3 (Batc  (None, 13, 13, 384)      1536      \n",
            " hNormalization)                                                 \n",
            "                                                                 \n",
            " conv2d_4 (Conv2D)           (None, 13, 13, 256)       884992    \n",
            "                                                                 \n",
            " re_lu_4 (ReLU)              (None, 13, 13, 256)       0         \n",
            "                                                                 \n",
            " batch_normalization_4 (Batc  (None, 13, 13, 256)      1024      \n",
            " hNormalization)                                                 \n",
            "                                                                 \n",
            " max_pooling2d_2 (MaxPooling  (None, 6, 6, 256)        0         \n",
            " 2D)                                                             \n",
            "                                                                 \n",
            " flatten (Flatten)           (None, 9216)              0         \n",
            "                                                                 \n",
            " dense (Dense)               (None, 4096)              37752832  \n",
            "                                                                 \n",
            " dropout (Dropout)           (None, 4096)              0         \n",
            "                                                                 \n",
            " dense_1 (Dense)             (None, 4096)              16781312  \n",
            "                                                                 \n",
            " dropout_1 (Dropout)         (None, 4096)              0         \n",
            "                                                                 \n",
            " dense_2 (Dense)             (None, 10)                40970     \n",
            "                                                                 \n",
            "=================================================================\n",
            "Total params: 58,327,818\n",
            "Trainable params: 58,325,066\n",
            "Non-trainable params: 2,752\n",
            "_________________________________________________________________\n"
          ]
        }
      ],
      "source": [
        "AlexNet = tf.keras.Sequential([\n",
        "    #Conv1\n",
        "    tfl.Conv2D(96,11,strides=(4, 4),padding='valid', input_shape = (227,227,3)), \n",
        "    tfl.ReLU(),\n",
        "    tfl.BatchNormalization(),\n",
        "    tfl.MaxPool2D(pool_size = (3,3), strides = 2),\n",
        "    #Conv2\n",
        "    tfl.Conv2D(256,5,strides=(1, 1),padding='same'),\n",
        "    tfl.ReLU(),\n",
        "    tfl.BatchNormalization(),\n",
        "    tfl.MaxPool2D(pool_size = (3,3), strides = 2),\n",
        "    #Conv3\n",
        "    tfl.Conv2D(384,3,strides=(1, 1),padding='same'),\n",
        "    tfl.ReLU(),\n",
        "    tfl.BatchNormalization(),\n",
        "    #Conv4\n",
        "    tfl.Conv2D(384,3,strides=(1, 1),padding='same'),\n",
        "    tfl.ReLU(),\n",
        "    tfl.BatchNormalization(),\n",
        "    #Conv5\n",
        "    tfl.Conv2D(256,3,strides=(1, 1),padding='same'),\n",
        "    tfl.ReLU(),\n",
        "    tfl.BatchNormalization(),\n",
        "    tfl.MaxPool2D(pool_size = (3,3), strides = 2),\n",
        "    #FC1\n",
        "    tfl.Flatten(),\n",
        "    tfl.Dense(4096, activation = 'relu'),\n",
        "    tfl.Dropout(0.5),\n",
        "    #FC2\n",
        "    tfl.Dense(4096,activation = 'relu'),\n",
        "    tfl.Dropout(0.5),\n",
        "    #FC3\n",
        "    tfl.Dense(10,activation = 'softmax')\n",
        "    ])\n",
        "AlexNet.compile( loss ='sparse_categorical_crossentropy',optimizer = 'adam', metrics = ['accuracy'])\n",
        "AlexNet.summary()"
      ]
    },
    {
      "cell_type": "code",
      "execution_count": null,
      "metadata": {
        "id": "cboUrXqrTcFd",
        "outputId": "d0aa1555-2538-4b17-fb99-509d7d1305df",
        "colab": {
          "base_uri": "https://localhost:8080/"
        }
      },
      "outputs": [
        {
          "output_type": "stream",
          "name": "stdout",
          "text": [
            "Epoch 1/10\n",
            "312/312 [==============================] - 22s 56ms/step - loss: 0.1586 - accuracy: 0.9576\n",
            "Epoch 2/10\n",
            "312/312 [==============================] - 20s 55ms/step - loss: 0.1879 - accuracy: 0.9516\n",
            "Epoch 3/10\n",
            "312/312 [==============================] - 20s 55ms/step - loss: 0.1570 - accuracy: 0.9580\n",
            "Epoch 4/10\n",
            "312/312 [==============================] - 20s 55ms/step - loss: 0.1384 - accuracy: 0.9613\n",
            "Epoch 5/10\n",
            "312/312 [==============================] - 20s 55ms/step - loss: 0.1680 - accuracy: 0.9614\n",
            "Epoch 6/10\n",
            "312/312 [==============================] - 20s 55ms/step - loss: 0.1682 - accuracy: 0.9578\n",
            "Epoch 7/10\n",
            "312/312 [==============================] - 20s 55ms/step - loss: 0.1446 - accuracy: 0.9643\n",
            "Epoch 8/10\n",
            "312/312 [==============================] - 20s 55ms/step - loss: 0.1294 - accuracy: 0.9669\n",
            "Epoch 9/10\n",
            "312/312 [==============================] - 20s 55ms/step - loss: 0.1087 - accuracy: 0.9720\n",
            "Epoch 10/10\n",
            "312/312 [==============================] - 20s 55ms/step - loss: 0.1188 - accuracy: 0.9709\n"
          ]
        }
      ],
      "source": [
        "history = AlexNet.fit(train_ds,epochs = 10, batch_size = 64)"
      ]
    },
    {
      "cell_type": "code",
      "source": [
        "Results = AlexNet.evaluate(test_ds, batch_size=128)\n",
        "print(Results)"
      ],
      "metadata": {
        "colab": {
          "base_uri": "https://localhost:8080/"
        },
        "id": "VqSL9mdxcV5g",
        "outputId": "9ca62745-5a7c-4f38-a3d0-167e8ea9400d"
      },
      "execution_count": null,
      "outputs": [
        {
          "output_type": "stream",
          "name": "stdout",
          "text": [
            "312/312 [==============================] - 9s 20ms/step - loss: 1.5005 - accuracy: 0.7114\n",
            "[1.5004923343658447, 0.7114382982254028]\n"
          ]
        }
      ]
    }
  ],
  "metadata": {
    "kernelspec": {
      "display_name": "Python 3.10.4 ('myenv')",
      "language": "python",
      "name": "python3"
    },
    "language_info": {
      "codemirror_mode": {
        "name": "ipython",
        "version": 3
      },
      "file_extension": ".py",
      "mimetype": "text/x-python",
      "name": "python",
      "nbconvert_exporter": "python",
      "pygments_lexer": "ipython3",
      "version": "3.10.4"
    },
    "vscode": {
      "interpreter": {
        "hash": "4c72393390aee9815d7b792bc598013fc10f52cf49f264bfd5dd08c1c22e3d87"
      }
    },
    "colab": {
      "provenance": []
    },
    "accelerator": "GPU",
    "gpuClass": "standard"
  },
  "nbformat": 4,
  "nbformat_minor": 0
}