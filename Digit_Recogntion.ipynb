{
 "cells": [
  {
   "cell_type": "code",
   "execution_count": 31,
   "metadata": {},
   "outputs": [],
   "source": [
    "import numpy as np\n",
    "import matplotlib.pyplot as plt\n",
    "from tensorflow.keras.datasets import mnist\n",
    "(X1, Y1), (X2, Y2) = mnist.load_data()\n"
   ]
  },
  {
   "cell_type": "code",
   "execution_count": 2,
   "metadata": {},
   "outputs": [],
   "source": [
    "\n",
    "m_train = X1.shape[0]\n",
    "m_test = X2.shape[0]\n",
    "X_train = (X1.reshape(X1.shape[0],-1).T)/255\n",
    "Y_train_temp = Y1.reshape(Y1.shape[0],)\n",
    "Y_train = np.zeros((Y_train_temp.size,10))\n",
    "Y_train[np.arange(Y_train_temp.size),Y_train_temp] = 1\n",
    "Y_train = Y_train.T\n",
    "X_test = (X2.reshape(X2.shape[0],-1).T)/255\n",
    "Y_test_temp = Y2.reshape(Y2.shape[0],)\n",
    "Y_test = np.zeros((Y_test_temp.size,10))\n",
    "Y_test[np.arange(Y_test_temp.size),Y_test_temp] = 1\n",
    "Y_test = Y_test.T"
   ]
  },
  {
   "cell_type": "code",
   "execution_count": 3,
   "metadata": {},
   "outputs": [],
   "source": [
    "def sigmoid(z):\n",
    "    s = 1/(1+np.exp(-z))\n",
    "    return s\n",
    "\n",
    "def leakyrelu(z):\n",
    "    s = np.where(z>0 , z , z*0.01)\n",
    "    activation_cache = (z)\n",
    "    return s, activation_cache\n",
    "\n",
    "def softmax(z):\n",
    "    s = np.exp(z)/np.sum(np.exp(z), axis = 0, keepdims = True)\n",
    "    activation_cache = (z)\n",
    "    return s, activation_cache"
   ]
  },
  {
   "cell_type": "code",
   "execution_count": 4,
   "metadata": {},
   "outputs": [],
   "source": [
    "def initialize_parameters(X,Y):\n",
    "\n",
    "    W1 = np.random.randn(100,X.shape[0])*0.01\n",
    "    b1 = np.zeros((100,1), dtype = float)\n",
    "    W2 = np.random.randn(50,W1.shape[0])*0.01\n",
    "    b2 = np.zeros((50,1), dtype = float)\n",
    "    W3 = np.random.randn(25,W2.shape[0])*0.01\n",
    "    b3 = np.zeros((25,1), dtype = float)\n",
    "    W4 = np.random.randn(10,W3.shape[0])*0.01\n",
    "    b4 = np.zeros((10,1), dtype = float)\n",
    "\n",
    "    parameters = {\"W1\" : W1, \"b1\" : b1,\"W2\" : W2, \"b2\" : b2,\"W3\" : W3, \"b3\" : b3,\"W4\" : W4, \"b4\" : b4,}\n",
    "\n",
    "    return parameters\n"
   ]
  },
  {
   "cell_type": "code",
   "execution_count": 5,
   "metadata": {},
   "outputs": [],
   "source": [
    "def linear_forward(A, W, b):\n",
    "    Z = np.dot(W,A) + b\n",
    "    cache = (A, W, b)\n",
    "    return Z, cache"
   ]
  },
  {
   "cell_type": "code",
   "execution_count": 6,
   "metadata": {},
   "outputs": [],
   "source": [
    "def linear_activation_forward(A_prev, W, b, activation):\n",
    "    if activation == \"leakyrelu\":\n",
    "        Z, linear_cache = linear_forward(A_prev, W, b)\n",
    "        A, activation_cache = leakyrelu(Z)\n",
    "    \n",
    "    if activation == \"softmax\":\n",
    "        Z, linear_cache = linear_forward(A_prev, W, b)\n",
    "        A, activation_cache = softmax(Z)\n",
    "        \n",
    "    cache = (linear_cache, activation_cache)\n",
    "    return A, cache\n"
   ]
  },
  {
   "cell_type": "code",
   "execution_count": 7,
   "metadata": {},
   "outputs": [],
   "source": [
    "def L_forward(X, parameters):\n",
    "\n",
    "    caches = []\n",
    "    A = X\n",
    "    L = len(parameters)//2\n",
    "\n",
    "    for l in range (1,L):\n",
    "        A_prev = A\n",
    "\n",
    "        A,cache = linear_activation_forward(A_prev,parameters[\"W\" + str(l)], parameters[\"b\" + str(l)], \"leakyrelu\")\n",
    "        caches.append(cache)\n",
    "\n",
    "    AL, cache =  linear_activation_forward(A,parameters[\"W\" + str(L)], parameters[\"b\" + str(L)], \"softmax\")\n",
    "    caches.append(cache)\n",
    "\n",
    "    return AL, caches"
   ]
  },
  {
   "cell_type": "code",
   "execution_count": 8,
   "metadata": {},
   "outputs": [],
   "source": [
    "def compute_cost(AL, Y):\n",
    "\n",
    "    m = Y.shape[1]\n",
    "    cost = - np.sum(Y*np.log(AL))/m\n",
    "    np.squeeze(cost)\n",
    "\n",
    "    return cost"
   ]
  },
  {
   "cell_type": "code",
   "execution_count": 9,
   "metadata": {},
   "outputs": [],
   "source": [
    "def linear_backward(dZ , cache):\n",
    "\n",
    "    A_prev, W, b = cache\n",
    "    m = A_prev.shape[1]\n",
    "\n",
    "    dW = np.dot(dZ, A_prev.T)/m\n",
    "    db = np.sum(dZ, axis = 1, keepdims=True)/m\n",
    "    dA_prev = np.dot(W.T, dZ)\n",
    "\n",
    "    return dA_prev, dW, db"
   ]
  },
  {
   "cell_type": "code",
   "execution_count": 10,
   "metadata": {},
   "outputs": [],
   "source": [
    "def softmax_backward(AL, Y):\n",
    "    dZ = AL- Y\n",
    "    return dZ"
   ]
  },
  {
   "cell_type": "code",
   "execution_count": 11,
   "metadata": {},
   "outputs": [],
   "source": [
    "def leakyrelu_backward(dA, activation_cache):\n",
    "    Z = activation_cache\n",
    "    Z_temp = np.where(Z>0, 1, 0.01)\n",
    "    dZ = dA * Z_temp\n",
    "\n",
    "    return dZ"
   ]
  },
  {
   "cell_type": "code",
   "execution_count": 12,
   "metadata": {},
   "outputs": [],
   "source": [
    "def linear_activation_backward(Y, AL, dA, cache, activation):\n",
    "    linear_cache, activation_cache = cache\n",
    "\n",
    "    if activation == \"leakyrelu\":\n",
    "        dZ = leakyrelu_backward(dA, activation_cache)\n",
    "        dA_prev, dW, db = linear_backward(dZ, linear_cache)\n",
    "\n",
    "    elif activation == \"softmax\":\n",
    "        dZ = softmax_backward(AL, Y)\n",
    "        dA_prev, dW, db = linear_backward(dZ, linear_cache)\n",
    "\n",
    "\n",
    "    return dA_prev, dW, db\n",
    "        "
   ]
  },
  {
   "cell_type": "code",
   "execution_count": 13,
   "metadata": {},
   "outputs": [],
   "source": [
    "def L_model_backward(AL, Y, caches):\n",
    "\n",
    "    grads = {}\n",
    "    L = len(caches)\n",
    "    m = AL.shape[1]\n",
    "    Y = Y.reshape(AL.shape)\n",
    "    dAL = -Y/AL\n",
    "\n",
    "    current_cache = caches[L-1]\n",
    "    dA_prev_temp, dW_temp, db_temp = linear_activation_backward(Y,AL,dAL,current_cache, \"softmax\")\n",
    "    grads[\"dA\" + str(L-1)] = dA_prev_temp\n",
    "    grads[\"dW\" + str(L)] = dW_temp\n",
    "    grads[\"db\" + str(L)] = db_temp\n",
    "\n",
    "    for l in reversed(range(L-1)):\n",
    "        current_cache = caches[l]\n",
    "        dA_prev_temp, dW_temp, db_temp = linear_activation_backward(Y,AL,dA_prev_temp, current_cache, \"leakyrelu\")\n",
    "        grads[\"dA\" + str(l)] = dA_prev_temp\n",
    "        grads[\"dW\" + str(l+1)] = dW_temp\n",
    "        grads[\"db\" + str(l+1)] = db_temp\n",
    "\n",
    "    return grads\n",
    "    "
   ]
  },
  {
   "cell_type": "code",
   "execution_count": 14,
   "metadata": {},
   "outputs": [],
   "source": [
    "def update_parameters(params,grads,learning_rate):\n",
    "    parameters = params.copy()\n",
    "\n",
    "    L = len(parameters)//2\n",
    "\n",
    "    for l in range(L):\n",
    "        parameters[\"W\" + str(l+1)] = params[\"W\" + str(l+1)] - learning_rate*grads[\"dW\" + str(l+1)]\n",
    "        parameters[\"b\" + str(l+1)] = params[\"b\" + str(l+1)] - learning_rate*grads[\"db\" + str(l+1)]\n",
    "\n",
    "    return parameters"
   ]
  },
  {
   "cell_type": "code",
   "execution_count": 15,
   "metadata": {},
   "outputs": [],
   "source": [
    "def random_mini_batches(X,Y, mini_batch_size = 64):\n",
    "    m = X.shape[1]\n",
    "    mini_batches = []\n",
    "\n",
    "    permutation = list(np.random.permutation(m))\n",
    "    shuffled_X = X[:, permutation]\n",
    "    shuffled_Y = Y[:, permutation]\n",
    "\n",
    "    inc = mini_batch_size\n",
    "    num_complete_minibatches = m // mini_batch_size\n",
    "   \n",
    "    for k in range(0, num_complete_minibatches):\n",
    "        mini_batch_X = shuffled_X[:,k*inc:(k+1)*inc]\n",
    "        mini_batch_Y = shuffled_Y[:,k*inc:(k+1)*inc]\n",
    "        mini_batch = (mini_batch_X, mini_batch_Y)\n",
    "        mini_batches.append(mini_batch)\n",
    "\n",
    "    if m % mini_batch_size != 0:\n",
    "        mini_batch_X = shuffled_X[:, num_complete_minibatches * mini_batch_size: ]\n",
    "        mini_batch_Y = shuffled_Y[:, num_complete_minibatches * mini_batch_size: ]\n",
    "        mini_batch = (mini_batch_X, mini_batch_Y)\n",
    "        mini_batches.append(mini_batch)\n",
    "\n",
    "    return mini_batches"
   ]
  },
  {
   "cell_type": "code",
   "execution_count": 16,
   "metadata": {},
   "outputs": [],
   "source": [
    "\n",
    "def model(X, Y, learning_rate = 0.0075, num_iterations = 3000, print_cost = False):\n",
    "\n",
    "    grads = {}\n",
    "    costs = []\n",
    "    m = X.shape[1]\n",
    "    parameters = initialize_parameters(X,Y)\n",
    "\n",
    "    for i in range(0, num_iterations):\n",
    "        AL, caches = L_forward(X,parameters)\n",
    "        grads = L_model_backward(AL, Y, caches)\n",
    "        parameters = update_parameters(parameters,grads,learning_rate)\n",
    "        cost = compute_cost(AL,Y)\n",
    "        Y_predict = np.zeros(AL.shape)\n",
    "        Y_predict[np.argmax(AL, axis = 0), np.arange(AL.shape[1])] = 1\n",
    "        \n",
    "        if print_cost and i % 100 == 0 or i == num_iterations - 1:\n",
    "            print(\"Cost after iteration {}: {}\".format(i, np.squeeze(cost)))\n",
    "            print(\"train accuracy: {} %\".format(100 - np.mean(np.abs(Y_predict - Y)) * 100))\n",
    "        \n",
    "        if i % 100 == 0 or i == num_iterations:\n",
    "            costs.append(cost)\n",
    "\n",
    "    return parameters,costs, Y_predict"
   ]
  },
  {
   "cell_type": "code",
   "execution_count": 17,
   "metadata": {},
   "outputs": [
    {
     "name": "stdout",
     "output_type": "stream",
     "text": [
      "Cost after iteration 0: 2.3025856720705646\n",
      "train accuracy: 81.586 %\n",
      "Cost after iteration 100: 2.3011477492197248\n",
      "train accuracy: 82.24733333333333 %\n",
      "Cost after iteration 200: 2.301121053339652\n",
      "train accuracy: 82.24733333333333 %\n",
      "Cost after iteration 300: 2.3007188769786833\n",
      "train accuracy: 82.24733333333333 %\n",
      "Cost after iteration 400: 2.3003352822531506\n",
      "train accuracy: 82.24733333333333 %\n",
      "Cost after iteration 500: 1.9361728766589936\n",
      "train accuracy: 85.089 %\n",
      "Cost after iteration 600: 2.233536115234909\n",
      "train accuracy: 84.32833333333333 %\n",
      "Cost after iteration 700: 1.4268579306420581\n",
      "train accuracy: 86.99433333333333 %\n",
      "Cost after iteration 800: 1.0196973537292688\n",
      "train accuracy: 91.88833333333334 %\n",
      "Cost after iteration 900: 0.7015172678131936\n",
      "train accuracy: 94.76466666666667 %\n",
      "Cost after iteration 999: 0.5511161424634563\n",
      "train accuracy: 96.222 %\n"
     ]
    }
   ],
   "source": [
    "parameters, costs, Y_predict = model(X_train,Y_train, 1, 1000, True)"
   ]
  },
  {
   "cell_type": "code",
   "execution_count": 18,
   "metadata": {},
   "outputs": [],
   "source": [
    "def accuracy_test(parameters, X, Y):\n",
    "    AL, caches = L_forward(X,parameters)\n",
    "    Y_predict = np.zeros(AL.shape)\n",
    "    Y_predict[np.argmax(AL, axis = 0), np.arange(AL.shape[1])] = 1\n",
    "    print(\"accuracy: {} %\".format(100 - np.mean(np.abs(Y_predict - Y)) * 100))\n",
    "\n",
    "    return AL, Y_predict"
   ]
  },
  {
   "cell_type": "code",
   "execution_count": 30,
   "metadata": {},
   "outputs": [
    {
     "name": "stdout",
     "output_type": "stream",
     "text": [
      "accuracy: 96.10666666666667 %\n",
      "[0. 0. 0. 1. 0. 0. 0. 0. 0. 0.]\n",
      "[0. 0. 0. 1. 0. 0. 0. 0. 0. 0.]\n",
      "3\n"
     ]
    }
   ],
   "source": [
    "AL, Y_predict = accuracy_test(parameters, X_train, Y_train)\n",
    "print(Y_train[:,5702])\n",
    "print(Y_predict[:,5702])\n",
    "print(Y1[5702])"
   ]
  },
  {
   "cell_type": "code",
   "execution_count": null,
   "metadata": {},
   "outputs": [],
   "source": []
  },
  {
   "cell_type": "code",
   "execution_count": null,
   "metadata": {},
   "outputs": [],
   "source": []
  }
 ],
 "metadata": {
  "kernelspec": {
   "display_name": "Python 3.10.4 ('myenv')",
   "language": "python",
   "name": "python3"
  },
  "language_info": {
   "codemirror_mode": {
    "name": "ipython",
    "version": 3
   },
   "file_extension": ".py",
   "mimetype": "text/x-python",
   "name": "python",
   "nbconvert_exporter": "python",
   "pygments_lexer": "ipython3",
   "version": "3.10.4"
  },
  "orig_nbformat": 4,
  "vscode": {
   "interpreter": {
    "hash": "4c72393390aee9815d7b792bc598013fc10f52cf49f264bfd5dd08c1c22e3d87"
   }
  }
 },
 "nbformat": 4,
 "nbformat_minor": 2
}
