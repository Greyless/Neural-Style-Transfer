{
 "cells": [
  {
   "cell_type": "code",
   "execution_count": 25,
   "metadata": {},
   "outputs": [],
   "source": [
    "import numpy as np\n",
    "import matplotlib.pyplot as plt\n",
    "from tensorflow.keras.datasets import mnist\n",
    "(X1, Y1), (X2, Y2) = mnist.load_data()\n"
   ]
  },
  {
   "cell_type": "code",
   "execution_count": 26,
   "metadata": {},
   "outputs": [],
   "source": [
    "\n",
    "m_train = X1.shape[0]\n",
    "m_test = X2.shape[0]\n",
    "X_train = (X1.reshape(X1.shape[0],-1).T)/255\n",
    "Y_train_temp = Y1.reshape(Y1.shape[0],)\n",
    "Y_train = np.zeros((Y_train_temp.size,10))\n",
    "Y_train[np.arange(Y_train_temp.size),Y_train_temp] = 1\n",
    "Y_train = Y_train.T\n",
    "X_test = (X2.reshape(X2.shape[0],-1).T)/255\n",
    "Y_test_temp = Y2.reshape(Y2.shape[0],)\n",
    "Y_test = np.zeros((Y_test_temp.size,10))\n",
    "Y_test[np.arange(Y_test_temp.size),Y_test_temp] = 1\n",
    "Y_test = Y_test.T"
   ]
  },
  {
   "cell_type": "code",
   "execution_count": 27,
   "metadata": {},
   "outputs": [],
   "source": [
    "def sigmoid(z):\n",
    "    s = 1/(1+np.exp(-z))\n",
    "    return s\n",
    "\n",
    "def leakyrelu(z):\n",
    "    s = np.where(z>0 , z , z*0.01)\n",
    "    activation_cache = (z)\n",
    "    return s, activation_cache\n",
    "\n",
    "def softmax(z):\n",
    "    s = z/np.sum(np.exp(z), axis = 0, keepdims = True)\n",
    "    activation_cache = (z)\n",
    "    return s, activation_cache"
   ]
  },
  {
   "cell_type": "code",
   "execution_count": 28,
   "metadata": {},
   "outputs": [],
   "source": [
    "def initialize_parameters(X,Y):\n",
    "\n",
    "    W1 = np.random.randn(40,X.shape[0])*0.01\n",
    "    b1 = np.zeros((40,1), dtype = float)\n",
    "    W2 = np.random.randn(30,W1.shape[0])*0.01\n",
    "    b2 = np.zeros((30,1), dtype = float)\n",
    "    W3 = np.random.randn(20,W2.shape[0])*0.01\n",
    "    b3 = np.zeros((20,1), dtype = float)\n",
    "    W4 = np.random.randn(10,W3.shape[0])*0.01\n",
    "    b4 = np.zeros((10,1), dtype = float)\n",
    "\n",
    "    parameters = {\"W1\" : W1, \"b1\" : b1,\"W2\" : W2, \"b2\" : b2,\"W3\" : W3, \"b3\" : b3,\"W4\" : W4, \"b4\" : b4,}\n",
    "\n",
    "    return parameters\n"
   ]
  },
  {
   "cell_type": "code",
   "execution_count": 29,
   "metadata": {},
   "outputs": [],
   "source": [
    "def linear_forward(A, W, b):\n",
    "    Z = np.dot(W,A) + b\n",
    "    cache = (A, W, b)\n",
    "    return Z, cache"
   ]
  },
  {
   "cell_type": "code",
   "execution_count": 30,
   "metadata": {},
   "outputs": [],
   "source": [
    "def linear_activation_forward(A_prev, W, b, activation):\n",
    "    if activation == \"leakyrelu\":\n",
    "        Z, linear_cache = linear_forward(A_prev, W, b)\n",
    "        A, activation_cache = leakyrelu(Z)\n",
    "    \n",
    "    if activation == \"softmax\":\n",
    "        Z, linear_cache = linear_forward(A_prev, W, b)\n",
    "        A, activation_cache = softmax(Z)\n",
    "        \n",
    "    cache = (linear_cache, activation_cache)\n",
    "    return A, cache\n"
   ]
  },
  {
   "cell_type": "code",
   "execution_count": 31,
   "metadata": {},
   "outputs": [],
   "source": [
    "def L_forward(X, parameters):\n",
    "\n",
    "    caches = []\n",
    "    A = X\n",
    "    L = len(parameters)//2\n",
    "\n",
    "    for l in range (1,L):\n",
    "        A_prev = A\n",
    "\n",
    "        A,cache = linear_activation_forward(A_prev,parameters[\"W\" + str(l)], parameters[\"b\" + str(l)], \"leakyrelu\")\n",
    "        caches.append(cache)\n",
    "\n",
    "    AL, cache =  linear_activation_forward(A,parameters[\"W\" + str(L)], parameters[\"b\" + str(L)], \"softmax\")\n",
    "    caches.append(cache)\n",
    "\n",
    "    return AL, caches"
   ]
  },
  {
   "cell_type": "code",
   "execution_count": 32,
   "metadata": {},
   "outputs": [],
   "source": [
    "def compute_cost(AL, Y):\n",
    "\n",
    "    m = Y.shape[1]\n",
    "    cost = - np.sum(Y*np.log(AL))/m\n",
    "    np.squeeze(cost)\n",
    "\n",
    "    return cost"
   ]
  },
  {
   "cell_type": "code",
   "execution_count": 33,
   "metadata": {},
   "outputs": [],
   "source": [
    "def linear_backward(dZ , cache):\n",
    "\n",
    "    A_prev, W, b = cache\n",
    "    m = A_prev.shape[1]\n",
    "\n",
    "    dW = np.dot(dZ, A_prev.T)/m\n",
    "    db = np.sum(dZ, axis = 1, keepdims=True)/m\n",
    "    dA_prev = np.dot(W.T, dZ)\n",
    "\n",
    "    return dA_prev, dW, db"
   ]
  },
  {
   "cell_type": "code",
   "execution_count": 34,
   "metadata": {},
   "outputs": [],
   "source": [
    "def softmax_backward(AL, Y):\n",
    "    dZ = AL- Y\n",
    "    return dZ"
   ]
  },
  {
   "cell_type": "code",
   "execution_count": 35,
   "metadata": {},
   "outputs": [],
   "source": [
    "def leakyrelu_backward(dA, activation_cache):\n",
    "    Z = activation_cache\n",
    "    Z_temp = np.where(Z>0, 1, 0.01)\n",
    "    dZ = dA * Z_temp\n",
    "\n",
    "    return dZ"
   ]
  },
  {
   "cell_type": "code",
   "execution_count": 36,
   "metadata": {},
   "outputs": [],
   "source": [
    "def linear_activation_backward(Y, AL, dA, cache, activation):\n",
    "    linear_cache, activation_cache = cache\n",
    "\n",
    "    if activation == \"leakyrelu\":\n",
    "        dZ = leakyrelu_backward(dA, activation_cache)\n",
    "        dA_prev, dW, db = linear_backward(dZ, linear_cache)\n",
    "\n",
    "    elif activation == \"softmax\":\n",
    "        dZ = softmax_backward(AL, Y)\n",
    "        dA_prev, dW, db = linear_backward(dZ, linear_cache)\n",
    "\n",
    "\n",
    "    return dA_prev, dW, db\n",
    "        "
   ]
  },
  {
   "cell_type": "code",
   "execution_count": 37,
   "metadata": {},
   "outputs": [],
   "source": [
    "def L_model_backward(AL, Y, caches):\n",
    "\n",
    "    grads = {}\n",
    "    L = len(caches)\n",
    "    m = AL.shape[1]\n",
    "    Y = Y.reshape(AL.shape)\n",
    "    dAL = -Y/AL\n",
    "\n",
    "    current_cache = caches[L-1]\n",
    "    dA_prev_temp, dW_temp, db_temp = linear_activation_backward(Y,AL,dAL,current_cache, \"softmax\")\n",
    "    grads[\"dA\" + str(L-1)] = dA_prev_temp\n",
    "    grads[\"dW\" + str(L)] = dW_temp\n",
    "    grads[\"db\" + str(L)] = db_temp\n",
    "\n",
    "    for l in reversed(range(L-1)):\n",
    "        current_cache = caches[l]\n",
    "        dA_prev_temp, dW_temp, db_temp = linear_activation_backward(Y,AL,dA_prev_temp, current_cache, \"leakyrelu\")\n",
    "        grads[\"dA\" + str(l)] = dA_prev_temp\n",
    "        grads[\"dW\" + str(l+1)] = dW_temp\n",
    "        grads[\"db\" + str(l+1)] = db_temp\n",
    "\n",
    "    return grads\n",
    "    "
   ]
  },
  {
   "cell_type": "code",
   "execution_count": 38,
   "metadata": {},
   "outputs": [],
   "source": [
    "def update_parameters(params,grads,learning_rate):\n",
    "    parameters = params.copy()\n",
    "\n",
    "    L = len(parameters)//2\n",
    "\n",
    "    for l in range(L):\n",
    "        parameters[\"W\" + str(l+1)] = params[\"W\" + str(l+1)] - learning_rate*grads[\"dW\" + str(l+1)]\n",
    "        parameters[\"b\" + str(l+1)] = params[\"b\" + str(l+1)] - learning_rate*grads[\"db\" + str(l+1)]\n",
    "\n",
    "    return parameters"
   ]
  },
  {
   "cell_type": "code",
   "execution_count": 39,
   "metadata": {},
   "outputs": [],
   "source": [
    "def random_mini_batches(X,Y, mini_batch_size = 64):\n",
    "    m = X.shape[1]\n",
    "    mini_batches = []\n",
    "\n",
    "    permutation = list(np.random.permutation(m))\n",
    "    shuffled_X = X[:, permutation]\n",
    "    shuffled_Y = Y[:, permutation]\n",
    "\n",
    "    inc = mini_batch_size\n",
    "    num_complete_minibatches = m // mini_batch_size\n",
    "   \n",
    "    for k in range(0, num_complete_minibatches):\n",
    "        mini_batch_X = shuffled_X[:,k*inc:(k+1)*inc]\n",
    "        mini_batch_Y = shuffled_Y[:,k*inc:(k+1)*inc]\n",
    "        mini_batch = (mini_batch_X, mini_batch_Y)\n",
    "        mini_batches.append(mini_batch)\n",
    "\n",
    "    if m % mini_batch_size != 0:\n",
    "        mini_batch_X = shuffled_X[:, num_complete_minibatches * mini_batch_size: ]\n",
    "        mini_batch_Y = shuffled_Y[:, num_complete_minibatches * mini_batch_size: ]\n",
    "        mini_batch = (mini_batch_X, mini_batch_Y)\n",
    "        mini_batches.append(mini_batch)\n",
    "\n",
    "    return mini_batches"
   ]
  },
  {
   "cell_type": "code",
   "execution_count": 40,
   "metadata": {},
   "outputs": [],
   "source": [
    "def model(X, Y, learning_rate = 0.0075, num_iterations = 3000, print_cost = False):\n",
    "\n",
    "    grads = {}\n",
    "    costs = []\n",
    "    m = X.shape[1]\n",
    "    parameters = initialize_parameters(X,Y)\n",
    "\n",
    "    for i in range(0, num_iterations):\n",
    "        AL, caches = L_forward(X,parameters)\n",
    "        grads = L_model_backward(AL, Y, caches)\n",
    "        parameters = update_parameters(parameters,grads,learning_rate)\n",
    "        cost = compute_cost(AL,Y)\n",
    "        Y_predict = np.zeros(AL.shape)\n",
    "        Y_predict[np.argmax(AL, axis = 0), np.arange(AL.shape[1])] = 1\n",
    "        \n",
    "        if print_cost and i % 100 == 0 or i == num_iterations - 1:\n",
    "            print(\"Cost after iteration {}: {}\".format(i, np.squeeze(cost)))\n",
    "            print(\"train accuracy: {} %\".format(100 - np.mean(np.abs(Y_predict - Y)) * 100))\n",
    "        \n",
    "        if i % 100 == 0 or i == num_iterations:\n",
    "            costs.append(cost)\n",
    "\n",
    "    return parameters,costs"
   ]
  },
  {
   "cell_type": "code",
   "execution_count": 41,
   "metadata": {},
   "outputs": [
    {
     "name": "stderr",
     "output_type": "stream",
     "text": [
      "/tmp/ipykernel_144750/870941311.py:4: RuntimeWarning: invalid value encountered in log\n",
      "  cost = - np.sum(Y*np.log(AL))/m\n"
     ]
    },
    {
     "name": "stdout",
     "output_type": "stream",
     "text": [
      "Cost after iteration 0: nan\n",
      "train accuracy: 81.40833333333333 %\n"
     ]
    },
    {
     "ename": "KeyboardInterrupt",
     "evalue": "",
     "output_type": "error",
     "traceback": [
      "\u001b[0;31m---------------------------------------------------------------------------\u001b[0m",
      "\u001b[0;31mKeyboardInterrupt\u001b[0m                         Traceback (most recent call last)",
      "\u001b[1;32m/home/grey/Neural-Style-Transfer/Digit_Recogntion.ipynb Cell 17\u001b[0m in \u001b[0;36m<cell line: 1>\u001b[0;34m()\u001b[0m\n\u001b[0;32m----> <a href='vscode-notebook-cell:/home/grey/Neural-Style-Transfer/Digit_Recogntion.ipynb#X21sZmlsZQ%3D%3D?line=0'>1</a>\u001b[0m parameters, costs \u001b[39m=\u001b[39m model(X_train,Y_train, \u001b[39m0.1\u001b[39;49m, \u001b[39m10000\u001b[39;49m, \u001b[39mTrue\u001b[39;49;00m)\n",
      "\u001b[1;32m/home/grey/Neural-Style-Transfer/Digit_Recogntion.ipynb Cell 17\u001b[0m in \u001b[0;36mmodel\u001b[0;34m(X, Y, learning_rate, num_iterations, print_cost)\u001b[0m\n\u001b[1;32m      <a href='vscode-notebook-cell:/home/grey/Neural-Style-Transfer/Digit_Recogntion.ipynb#X21sZmlsZQ%3D%3D?line=7'>8</a>\u001b[0m \u001b[39mfor\u001b[39;00m i \u001b[39min\u001b[39;00m \u001b[39mrange\u001b[39m(\u001b[39m0\u001b[39m, num_iterations):\n\u001b[1;32m      <a href='vscode-notebook-cell:/home/grey/Neural-Style-Transfer/Digit_Recogntion.ipynb#X21sZmlsZQ%3D%3D?line=8'>9</a>\u001b[0m     AL, caches \u001b[39m=\u001b[39m L_forward(X,parameters)\n\u001b[0;32m---> <a href='vscode-notebook-cell:/home/grey/Neural-Style-Transfer/Digit_Recogntion.ipynb#X21sZmlsZQ%3D%3D?line=9'>10</a>\u001b[0m     grads \u001b[39m=\u001b[39m L_model_backward(AL, Y, caches)\n\u001b[1;32m     <a href='vscode-notebook-cell:/home/grey/Neural-Style-Transfer/Digit_Recogntion.ipynb#X21sZmlsZQ%3D%3D?line=10'>11</a>\u001b[0m     parameters \u001b[39m=\u001b[39m update_parameters(parameters,grads,learning_rate)\n\u001b[1;32m     <a href='vscode-notebook-cell:/home/grey/Neural-Style-Transfer/Digit_Recogntion.ipynb#X21sZmlsZQ%3D%3D?line=11'>12</a>\u001b[0m     cost \u001b[39m=\u001b[39m compute_cost(AL,Y)\n",
      "\u001b[1;32m/home/grey/Neural-Style-Transfer/Digit_Recogntion.ipynb Cell 17\u001b[0m in \u001b[0;36mL_model_backward\u001b[0;34m(AL, Y, caches)\u001b[0m\n\u001b[1;32m     <a href='vscode-notebook-cell:/home/grey/Neural-Style-Transfer/Digit_Recogntion.ipynb#X21sZmlsZQ%3D%3D?line=14'>15</a>\u001b[0m \u001b[39mfor\u001b[39;00m l \u001b[39min\u001b[39;00m \u001b[39mreversed\u001b[39m(\u001b[39mrange\u001b[39m(L\u001b[39m-\u001b[39m\u001b[39m1\u001b[39m)):\n\u001b[1;32m     <a href='vscode-notebook-cell:/home/grey/Neural-Style-Transfer/Digit_Recogntion.ipynb#X21sZmlsZQ%3D%3D?line=15'>16</a>\u001b[0m     current_cache \u001b[39m=\u001b[39m caches[l]\n\u001b[0;32m---> <a href='vscode-notebook-cell:/home/grey/Neural-Style-Transfer/Digit_Recogntion.ipynb#X21sZmlsZQ%3D%3D?line=16'>17</a>\u001b[0m     dA_prev_temp, dW_temp, db_temp \u001b[39m=\u001b[39m linear_activation_backward(Y,AL,dA_prev_temp, current_cache, \u001b[39m\"\u001b[39;49m\u001b[39mleakyrelu\u001b[39;49m\u001b[39m\"\u001b[39;49m)\n\u001b[1;32m     <a href='vscode-notebook-cell:/home/grey/Neural-Style-Transfer/Digit_Recogntion.ipynb#X21sZmlsZQ%3D%3D?line=17'>18</a>\u001b[0m     grads[\u001b[39m\"\u001b[39m\u001b[39mdA\u001b[39m\u001b[39m\"\u001b[39m \u001b[39m+\u001b[39m \u001b[39mstr\u001b[39m(l)] \u001b[39m=\u001b[39m dA_prev_temp\n\u001b[1;32m     <a href='vscode-notebook-cell:/home/grey/Neural-Style-Transfer/Digit_Recogntion.ipynb#X21sZmlsZQ%3D%3D?line=18'>19</a>\u001b[0m     grads[\u001b[39m\"\u001b[39m\u001b[39mdW\u001b[39m\u001b[39m\"\u001b[39m \u001b[39m+\u001b[39m \u001b[39mstr\u001b[39m(l\u001b[39m+\u001b[39m\u001b[39m1\u001b[39m)] \u001b[39m=\u001b[39m dW_temp\n",
      "\u001b[1;32m/home/grey/Neural-Style-Transfer/Digit_Recogntion.ipynb Cell 17\u001b[0m in \u001b[0;36mlinear_activation_backward\u001b[0;34m(Y, AL, dA, cache, activation)\u001b[0m\n\u001b[1;32m      <a href='vscode-notebook-cell:/home/grey/Neural-Style-Transfer/Digit_Recogntion.ipynb#X21sZmlsZQ%3D%3D?line=1'>2</a>\u001b[0m linear_cache, activation_cache \u001b[39m=\u001b[39m cache\n\u001b[1;32m      <a href='vscode-notebook-cell:/home/grey/Neural-Style-Transfer/Digit_Recogntion.ipynb#X21sZmlsZQ%3D%3D?line=3'>4</a>\u001b[0m \u001b[39mif\u001b[39;00m activation \u001b[39m==\u001b[39m \u001b[39m\"\u001b[39m\u001b[39mleakyrelu\u001b[39m\u001b[39m\"\u001b[39m:\n\u001b[0;32m----> <a href='vscode-notebook-cell:/home/grey/Neural-Style-Transfer/Digit_Recogntion.ipynb#X21sZmlsZQ%3D%3D?line=4'>5</a>\u001b[0m     dZ \u001b[39m=\u001b[39m leakyrelu_backward(dA, activation_cache)\n\u001b[1;32m      <a href='vscode-notebook-cell:/home/grey/Neural-Style-Transfer/Digit_Recogntion.ipynb#X21sZmlsZQ%3D%3D?line=5'>6</a>\u001b[0m     dA_prev, dW, db \u001b[39m=\u001b[39m linear_backward(dZ, linear_cache)\n\u001b[1;32m      <a href='vscode-notebook-cell:/home/grey/Neural-Style-Transfer/Digit_Recogntion.ipynb#X21sZmlsZQ%3D%3D?line=7'>8</a>\u001b[0m \u001b[39melif\u001b[39;00m activation \u001b[39m==\u001b[39m \u001b[39m\"\u001b[39m\u001b[39msoftmax\u001b[39m\u001b[39m\"\u001b[39m:\n",
      "\u001b[1;32m/home/grey/Neural-Style-Transfer/Digit_Recogntion.ipynb Cell 17\u001b[0m in \u001b[0;36mleakyrelu_backward\u001b[0;34m(dA, activation_cache)\u001b[0m\n\u001b[1;32m      <a href='vscode-notebook-cell:/home/grey/Neural-Style-Transfer/Digit_Recogntion.ipynb#X21sZmlsZQ%3D%3D?line=0'>1</a>\u001b[0m \u001b[39mdef\u001b[39;00m \u001b[39mleakyrelu_backward\u001b[39m(dA, activation_cache):\n\u001b[1;32m      <a href='vscode-notebook-cell:/home/grey/Neural-Style-Transfer/Digit_Recogntion.ipynb#X21sZmlsZQ%3D%3D?line=1'>2</a>\u001b[0m     Z \u001b[39m=\u001b[39m activation_cache\n\u001b[0;32m----> <a href='vscode-notebook-cell:/home/grey/Neural-Style-Transfer/Digit_Recogntion.ipynb#X21sZmlsZQ%3D%3D?line=2'>3</a>\u001b[0m     Z_temp \u001b[39m=\u001b[39m np\u001b[39m.\u001b[39;49mwhere(Z\u001b[39m>\u001b[39;49m\u001b[39m0\u001b[39;49m, \u001b[39m1\u001b[39;49m, \u001b[39m0.01\u001b[39;49m)\n\u001b[1;32m      <a href='vscode-notebook-cell:/home/grey/Neural-Style-Transfer/Digit_Recogntion.ipynb#X21sZmlsZQ%3D%3D?line=3'>4</a>\u001b[0m     dZ \u001b[39m=\u001b[39m dA \u001b[39m*\u001b[39m Z_temp\n\u001b[1;32m      <a href='vscode-notebook-cell:/home/grey/Neural-Style-Transfer/Digit_Recogntion.ipynb#X21sZmlsZQ%3D%3D?line=5'>6</a>\u001b[0m     \u001b[39mreturn\u001b[39;00m dZ\n",
      "File \u001b[0;32m<__array_function__ internals>:5\u001b[0m, in \u001b[0;36mwhere\u001b[0;34m(*args, **kwargs)\u001b[0m\n",
      "\u001b[0;31mKeyboardInterrupt\u001b[0m: "
     ]
    }
   ],
   "source": [
    "parameters, costs = model(X_train,Y_train, 0.1, 10000, True)"
   ]
  }
 ],
 "metadata": {
  "kernelspec": {
   "display_name": "Python 3.10.4 ('myenv')",
   "language": "python",
   "name": "python3"
  },
  "language_info": {
   "codemirror_mode": {
    "name": "ipython",
    "version": 3
   },
   "file_extension": ".py",
   "mimetype": "text/x-python",
   "name": "python",
   "nbconvert_exporter": "python",
   "pygments_lexer": "ipython3",
   "version": "3.10.4"
  },
  "orig_nbformat": 4,
  "vscode": {
   "interpreter": {
    "hash": "4c72393390aee9815d7b792bc598013fc10f52cf49f264bfd5dd08c1c22e3d87"
   }
  }
 },
 "nbformat": 4,
 "nbformat_minor": 2
}
